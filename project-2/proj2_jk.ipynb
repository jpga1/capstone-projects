{
 "cells": [
  {
   "cell_type": "markdown",
   "id": "95ae4859",
   "metadata": {},
   "source": [
    "## Importing libraries"
   ]
  },
  {
   "cell_type": "code",
   "execution_count": 8,
   "id": "a194bfbc",
   "metadata": {},
   "outputs": [],
   "source": [
    "import numpy as np\n",
    "import torch, torchvision\n",
    "import matplotlib.pyplot as plt"
   ]
  },
  {
   "cell_type": "markdown",
   "id": "ad2a75af",
   "metadata": {},
   "source": [
    "## Loading MNIST Dataset"
   ]
  },
  {
   "cell_type": "code",
   "execution_count": 9,
   "id": "7aafcd72",
   "metadata": {},
   "outputs": [],
   "source": [
    "T = torchvision.transforms.Compose([torchvision.transforms.ToTensor()])\n",
    "training_data = torchvision.datasets.MNIST('mnist_data', train=True, download=True, transform=T)"
   ]
  },
  {
   "cell_type": "markdown",
   "id": "f181a7d2",
   "metadata": {},
   "source": [
    "## Displaying Image"
   ]
  },
  {
   "cell_type": "code",
   "execution_count": 12,
   "id": "914ad8af",
   "metadata": {},
   "outputs": [
    {
     "data": {
      "text/plain": [
       "<matplotlib.image.AxesImage at 0x24806da77f0>"
      ]
     },
     "execution_count": 12,
     "metadata": {},
     "output_type": "execute_result"
    },
    {
     "data": {
      "image/png": "[encoded data removed]",
      "text/plain": [
       "<Figure size 432x288 with 1 Axes>"
      ]
     },
     "metadata": {
      "needs_background": "light"
     },
     "output_type": "display_data"
    }
   ],
   "source": [
    "plt.imshow(training_data[0][0][0], cmap='gray')"
   ]
  },
  {
   "cell_type": "markdown",
   "id": "bf16bc62",
   "metadata": {},
   "source": [
    "## Forming Kernels"
   ]
  },
  {
   "cell_type": "code",
   "execution_count": 13,
   "id": "7bd5764e",
   "metadata": {},
   "outputs": [],
   "source": [
    "kernel_horizontal_1 = [[1,1,1],\n",
    "                       [0,0,0],\n",
    "                       [-1,-1,-1]]\n",
    "\n",
    "kernel_horizontal_2 = [[-1,-1,-1],\n",
    "                       [0,0,0],\n",
    "                       [1,1,1]]\n",
    "\n",
    "kernel_vertical_1 = [[1,0,-1],\n",
    "                     [1,0,-1],\n",
    "                     [1,0,-1]]\n",
    "\n",
    "kernel_vertical_2 = [[-1,0,1],\n",
    "                     [-1,0,1],\n",
    "                     [-1,0,1]]"
   ]
  },
  {
   "cell_type": "markdown",
   "id": "c138b6c1",
   "metadata": {},
   "source": [
    "## Filter Method"
   ]
  },
  {
   "cell_type": "code",
   "execution_count": 20,
   "id": "9906ce90",
   "metadata": {},
   "outputs": [],
   "source": [
    "def conv2d(X, W, p=(0, 0), s=(1, 1)):\n",
    "    W_rot = np.array(W)[::-1,::-1]\n",
    "    X_orig = np.array(X)\n",
    "    n1 = X_orig.shape[0] + 2*p[0]\n",
    "    n2 = X_orig.shape[1] + 2*p[1]\n",
    "    X_padded = np.zeros(shape=(n1, n2))\n",
    "    X_padded[p[0]:p[0]+X_orig.shape[0],\n",
    "             p[1]:p[1]+X_orig.shape[1]] = X_orig\n",
    "    res = []\n",
    "    for i in range(0,int((X_padded.shape[0] - W_rot.shape[0])/s[0])+1, s[0]):\n",
    "        res.append([])\n",
    "        for j in range(0, int((X_padded.shape[1] - W_rot.shape[1])/s[1])+1, s[1]):\n",
    "            X_sub = X_padded[i:i+W_rot.shape[0],\n",
    "                             j:j+W_rot.shape[1]]\n",
    "            res[-1].append(np.sum(X_sub * W_rot))\n",
    "    return(np.array(res))"
   ]
  },
  {
   "cell_type": "markdown",
   "id": "a600d3c4",
   "metadata": {},
   "source": [
    "## Displaying Filtered Images"
   ]
  },
  {
   "cell_type": "code",
   "execution_count": 21,
   "id": "ad9ad73b",
   "metadata": {},
   "outputs": [
    {
     "data": {
      "text/plain": [
       "<matplotlib.image.AxesImage at 0x2480700bd90>"
      ]
     },
     "execution_count": 21,
     "metadata": {},
     "output_type": "execute_result"
    },
    {
     "data": {
      "image/png": "[encoded data removed]",
      "text/plain": [
       "<Figure size 432x288 with 1 Axes>"
      ]
     },
     "metadata": {
      "needs_background": "light"
     },
     "output_type": "display_data"
    }
   ],
   "source": [
    "plt.imshow(conv2d(training_data[0][0][0], kernel_horizontal_1), cmap='gray')"
   ]
  },
  {
   "cell_type": "code",
   "execution_count": 22,
   "id": "b96b5bc8",
   "metadata": {},
   "outputs": [
    {
     "data": {
      "text/plain": [
       "<matplotlib.image.AxesImage at 0x2480706be50>"
      ]
     },
     "execution_count": 22,
     "metadata": {},
     "output_type": "execute_result"
    },
    {
     "data": {
      "image/png": "[encoded data removed]",
      "text/plain": [
       "<Figure size 432x288 with 1 Axes>"
      ]
     },
     "metadata": {
      "needs_background": "light"
     },
     "output_type": "display_data"
    }
   ],
   "source": [
    "plt.imshow(conv2d(training_data[0][0][0], kernel_horizontal_2), cmap='gray')"
   ]
  },
  {
   "cell_type": "code",
   "execution_count": 23,
   "id": "47e0d43a",
   "metadata": {},
   "outputs": [
    {
     "data": {
      "text/plain": [
       "<matplotlib.image.AxesImage at 0x248070cbe20>"
      ]
     },
     "execution_count": 23,
     "metadata": {},
     "output_type": "execute_result"
    },
    {
     "data": {
      "image/png": "[encoded data removed]",
      "text/plain": [
       "<Figure size 432x288 with 1 Axes>"
      ]
     },
     "metadata": {
      "needs_background": "light"
     },
     "output_type": "display_data"
    }
   ],
   "source": [
    "plt.imshow(conv2d(training_data[0][0][0], kernel_vertical_1), cmap='gray')"
   ]
  },
  {
   "cell_type": "code",
   "execution_count": 24,
   "id": "859c7cbb",
   "metadata": {},
   "outputs": [
    {
     "data": {
      "text/plain": [
       "<matplotlib.image.AxesImage at 0x2480712adc0>"
      ]
     },
     "execution_count": 24,
     "metadata": {},
     "output_type": "execute_result"
    },
    {
     "data": {
      "image/png": "[encoded data removed]",
      "text/plain": [
       "<Figure size 432x288 with 1 Axes>"
      ]
     },
     "metadata": {
      "needs_background": "light"
     },
     "output_type": "display_data"
    }
   ],
   "source": [
    "plt.imshow(conv2d(training_data[0][0][0], kernel_vertical_2), cmap='gray')"
   ]
  },
  {
   "cell_type": "markdown",
   "id": "e52a23fe",
   "metadata": {},
   "source": [
    "## 5x5 Kernel Filtering"
   ]
  },
  {
   "cell_type": "code",
   "execution_count": 25,
   "id": "5bf44170",
   "metadata": {},
   "outputs": [],
   "source": [
    "kernel_horizontal_1_5x5 = [[1,1,1,1,1],\n",
    "                           [0,0,0,0,0],\n",
    "                           [0,0,0,0,0],\n",
    "                           [0,0,0,0,0],\n",
    "                           [-1,-1,-1,-1,-1]]\n",
    "\n",
    "kernel_horizontal_2_5x5 = [[1,1,1,1,1],\n",
    "                           [1,1,1,1,1],\n",
    "                           [0,0,0,0,0],\n",
    "                           [-1,-1,-1,-1,-1],\n",
    "                           [-1,-1,-1,-1,-1]]"
   ]
  },
  {
   "cell_type": "code",
   "execution_count": 26,
   "id": "3beaec5c",
   "metadata": {},
   "outputs": [
    {
     "data": {
      "text/plain": [
       "<matplotlib.image.AxesImage at 0x24803c433a0>"
      ]
     },
     "execution_count": 26,
     "metadata": {},
     "output_type": "execute_result"
    },
    {
     "data": {
      "image/png": "[encoded data removed]",
      "text/plain": [
       "<Figure size 432x288 with 1 Axes>"
      ]
     },
     "metadata": {
      "needs_background": "light"
     },
     "output_type": "display_data"
    }
   ],
   "source": [
    "plt.imshow(conv2d(training_data[0][0][0], kernel_horizontal_1_5x5), cmap='gray')"
   ]
  },
  {
   "cell_type": "code",
   "execution_count": 27,
   "id": "c3af0521",
   "metadata": {},
   "outputs": [
    {
     "data": {
      "text/plain": [
       "<matplotlib.image.AxesImage at 0x248071c45e0>"
      ]
     },
     "execution_count": 27,
     "metadata": {},
     "output_type": "execute_result"
    },
    {
     "data": {
      "image/png": "[encoded data removed]",
      "text/plain": [
       "<Figure size 432x288 with 1 Axes>"
      ]
     },
     "metadata": {
      "needs_background": "light"
     },
     "output_type": "display_data"
    }
   ],
   "source": [
    "plt.imshow(conv2d(training_data[0][0][0], kernel_horizontal_2_5x5), cmap='gray')"
   ]
  },
  {
   "cell_type": "markdown",
   "id": "54cc5c16",
   "metadata": {},
   "source": [
    "## 7x7 Kernel Filtering"
   ]
  },
  {
   "cell_type": "code",
   "execution_count": 33,
   "id": "66675eee",
   "metadata": {},
   "outputs": [],
   "source": [
    "kernel_vertical_1_7x7 = [[1,0,0,0,0,0,-1],\n",
    "                        [1,0,0,0,0,0,-1],\n",
    "                        [1,0,0,0,0,0,-1],\n",
    "                        [1,0,0,0,0,0,-1],\n",
    "                        [1,0,0,0,0,0,-1],\n",
    "                        [1,0,0,0,0,0,-1],\n",
    "                        [1,0,0,0,0,0,-1]]\n",
    "\n",
    "kernel_vertical_2_7x7 = [[1,1,0,0,0,-1,-1],\n",
    "                        [1,1,0,0,0,-1,-1],\n",
    "                        [1,1,0,0,0,-1,-1],\n",
    "                        [1,1,0,0,0,-1,-1],\n",
    "                        [1,1,0,0,0,-1,-1],\n",
    "                        [1,1,0,0,0,-1,-1],\n",
    "                        [1,1,0,0,0,-1,-1]]\n",
    "\n",
    "kernel_vertical_3_7x7 = [[1,1,1,0,0,-1,-1],\n",
    "                        [1,1,1,0,0,-1,-1],\n",
    "                        [1,1,1,0,0,-1,-1],\n",
    "                        [1,1,1,0,0,-1,-1],\n",
    "                        [1,1,1,0,0,-1,-1],\n",
    "                        [1,1,1,0,0,-1,-1],\n",
    "                        [1,1,1,0,0,-1,-1]]\n",
    "\n",
    "kernel_vertical_4_7x7 = [[1,1,1,1,1,-1,-1],\n",
    "                        [1,1,1,1,1,-1,-1],\n",
    "                        [1,1,1,1,1,-1,-1],\n",
    "                        [1,1,1,1,1,-1,-1],\n",
    "                        [1,1,1,1,1,-1,-1],\n",
    "                        [1,1,1,1,1,-1,-1],\n",
    "                        [1,1,1,1,1,-1,-1]]"
   ]
  },
  {
   "cell_type": "code",
   "execution_count": 34,
   "id": "d1b7d2ba",
   "metadata": {},
   "outputs": [
    {
     "data": {
      "text/plain": [
       "<matplotlib.image.AxesImage at 0x2480739f8b0>"
      ]
     },
     "execution_count": 34,
     "metadata": {},
     "output_type": "execute_result"
    },
    {
     "data": {
      "image/png": "[encoded data removed]",
      "text/plain": [
       "<Figure size 432x288 with 1 Axes>"
      ]
     },
     "metadata": {
      "needs_background": "light"
     },
     "output_type": "display_data"
    }
   ],
   "source": [
    "plt.imshow(conv2d(training_data[0][0][0], kernel_vertical_1_7x7), cmap='gray')"
   ]
  },
  {
   "cell_type": "code",
   "execution_count": 35,
   "id": "4f233809",
   "metadata": {},
   "outputs": [
    {
     "data": {
      "text/plain": [
       "<matplotlib.image.AxesImage at 0x248073fe1c0>"
      ]
     },
     "execution_count": 35,
     "metadata": {},
     "output_type": "execute_result"
    },
    {
     "data": {
      "image/png": "[encoded data removed]",
      "text/plain": [
       "<Figure size 432x288 with 1 Axes>"
      ]
     },
     "metadata": {
      "needs_background": "light"
     },
     "output_type": "display_data"
    }
   ],
   "source": [
    "plt.imshow(conv2d(training_data[0][0][0], kernel_vertical_2_7x7), cmap='gray')"
   ]
  },
  {
   "cell_type": "code",
   "execution_count": 36,
   "id": "e0423c76",
   "metadata": {},
   "outputs": [
    {
     "data": {
      "text/plain": [
       "<matplotlib.image.AxesImage at 0x2480745fb20>"
      ]
     },
     "execution_count": 36,
     "metadata": {},
     "output_type": "execute_result"
    },
    {
     "data": {
      "image/png": "[encoded data removed]",
      "text/plain": [
       "<Figure size 432x288 with 1 Axes>"
      ]
     },
     "metadata": {
      "needs_background": "light"
     },
     "output_type": "display_data"
    }
   ],
   "source": [
    "plt.imshow(conv2d(training_data[0][0][0], kernel_vertical_3_7x7), cmap='gray')"
   ]
  },
  {
   "cell_type": "code",
   "execution_count": 37,
   "id": "3f70d3d9",
   "metadata": {},
   "outputs": [
    {
     "data": {
      "text/plain": [
       "<matplotlib.image.AxesImage at 0x248074d1940>"
      ]
     },
     "execution_count": 37,
     "metadata": {},
     "output_type": "execute_result"
    },
    {
     "data": {
      "image/png": "[encoded data removed]",
      "text/plain": [
       "<Figure size 432x288 with 1 Axes>"
      ]
     },
     "metadata": {
      "needs_background": "light"
     },
     "output_type": "display_data"
    }
   ],
   "source": [
    "plt.imshow(conv2d(training_data[0][0][0], kernel_vertical_4_7x7), cmap='gray')"
   ]
  },
  {
   "cell_type": "code",
   "execution_count": null,
   "id": "b0c947b4",
   "metadata": {},
   "outputs": [],
   "source": []
  }
 ],
 "metadata": {
  "kernelspec": {
   "display_name": "Python 3 (ipykernel)",
   "language": "python",
   "name": "python3"
  },
  "language_info": {
   "codemirror_mode": {
    "name": "ipython",
    "version": 3
   },
   "file_extension": ".py",
   "mimetype": "text/x-python",
   "name": "python",
   "nbconvert_exporter": "python",
   "pygments_lexer": "ipython3",
   "version": "3.9.12"
  }
 },
 "nbformat": 4,
 "nbformat_minor": 5
}
